{
 "cells": [
  {
   "cell_type": "markdown",
   "id": "d1cf07ab",
   "metadata": {},
   "source": [
    "# cowsay\n",
    "A python API / Command-line tool for the famous linux  `cowsay`. - \n",
    "[PyPI project page](https://pypi.org/project/cowsay/)"
   ]
  },
  {
   "cell_type": "markdown",
   "id": "668cd316",
   "metadata": {},
   "source": [
    "## Installment"
   ]
  },
  {
   "cell_type": "code",
   "execution_count": 1,
   "id": "763f88a7",
   "metadata": {},
   "outputs": [],
   "source": [
    "# ! pip install cowsay"
   ]
  },
  {
   "cell_type": "markdown",
   "id": "7f909a83",
   "metadata": {},
   "source": [
    "## Demos"
   ]
  },
  {
   "cell_type": "code",
   "execution_count": 2,
   "id": "55cb0267",
   "metadata": {},
   "outputs": [
    {
     "name": "stdout",
     "output_type": "stream",
     "text": [
      "  _____________\n",
      "| Hello, world! |\n",
      "  =============\n",
      "             \\\n",
      "              \\\n",
      "                ^__^\n",
      "                (oo)\\_______\n",
      "                (__)\\       )\\/\\\n",
      "                    ||----w |\n",
      "                    ||     ||\n"
     ]
    }
   ],
   "source": [
    "import cowsay\n",
    "\n",
    "cowsay.cow(\"Hello, world!\")"
   ]
  },
  {
   "cell_type": "code",
   "execution_count": 3,
   "id": "f4556d0c",
   "metadata": {},
   "outputs": [
    {
     "name": "stdout",
     "output_type": "stream",
     "text": [
      "  _____________\n",
      "| I wanna eat!! |\n",
      "  =============\n",
      "             \\\n",
      "              \\\n",
      "               \\\n",
      "                \\\n",
      "                          ,.\n",
      "                         (_|,.\n",
      "                         ,' /, )_______   _\n",
      "                     __j o``-'        `.'-)'\n",
      "                     (\")                 \\'\n",
      "                     `-j                |\n",
      "                       `-._(           /\n",
      "                          |_\\  |--^.  /\n",
      "                         /_]'|_| /_)_/\n",
      "                             /_]'  /_]'\n"
     ]
    }
   ],
   "source": [
    "# More characters\n",
    "# ['beavis', 'cheese', 'cow', 'daemon', 'dragon', 'fox', 'ghostbusters', 'kitty',\n",
    "# 'meow', 'miki', 'milk', 'octopus', 'pig', 'stegosaurus', 'stimpy', 'trex', \n",
    "# 'turkey', 'turtle', 'tux']\n",
    "\n",
    "print(cowsay.get_output_string('pig', 'I wanna eat!!'))"
   ]
  },
  {
   "cell_type": "code",
   "execution_count": 4,
   "id": "1002d794",
   "metadata": {},
   "outputs": [
    {
     "name": "stdout",
     "output_type": "stream",
     "text": [
      "  _______\n",
      "| Relax~~ |\n",
      "  =======\n",
      "            \\\n",
      "             \\\n",
      "              \\\n",
      "               .--.\n",
      "              |o_o |\n",
      "              |:_/ |\n",
      "             //   \\ \\\n",
      "            (|     | )\n",
      "           /'\\_   _/`\\\n",
      "           \\___)=(___/\n"
     ]
    }
   ],
   "source": [
    "print(cowsay.get_output_string('tux', 'Relax~~'))"
   ]
  },
  {
   "cell_type": "code",
   "execution_count": 5,
   "id": "3c65f4c8",
   "metadata": {},
   "outputs": [
    {
     "name": "stdout",
     "output_type": "stream",
     "text": [
      "  _______________________\n",
      "| I can change to a fish. |\n",
      "  =======================\n",
      "                       \\\n",
      "                        \\  \n",
      "                               /`·.¸\n",
      "                            /¸...¸`:·\n",
      "                        ¸.·´  ¸   `·.¸.·´)\n",
      "                       : © ):´;      ¸  {\n",
      "                        `·.¸ `·  ¸.·´\\`·¸)\n",
      "                            `\\\\´´\\¸.·´\n"
     ]
    }
   ],
   "source": [
    "# Custom character\n",
    "my_fish = r'''\n",
    "\\\n",
    " \\  \n",
    "        /`·.¸\n",
    "     /¸...¸`:·\n",
    " ¸.·´  ¸   `·.¸.·´)\n",
    ": © ):´;      ¸  {\n",
    " `·.¸ `·  ¸.·´\\`·¸)\n",
    "     `\\\\´´\\¸.·´\n",
    "'''\n",
    "\n",
    "cowsay.draw('I can change to a fish.', my_fish)"
   ]
  }
 ],
 "metadata": {
  "kernelspec": {
   "display_name": "Python 3",
   "language": "python",
   "name": "python3"
  },
  "language_info": {
   "codemirror_mode": {
    "name": "ipython",
    "version": 3
   },
   "file_extension": ".py",
   "mimetype": "text/x-python",
   "name": "python",
   "nbconvert_exporter": "python",
   "pygments_lexer": "ipython3",
   "version": "3.9.6"
  }
 },
 "nbformat": 4,
 "nbformat_minor": 5
}
